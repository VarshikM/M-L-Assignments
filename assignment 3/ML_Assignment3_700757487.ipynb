{
  "metadata": {
    "language_info": {
      "codemirror_mode": {
        "name": "python",
        "version": 3
      },
      "file_extension": ".py",
      "mimetype": "text/x-python",
      "name": "python",
      "nbconvert_exporter": "python",
      "pygments_lexer": "ipython3",
      "version": "3.8"
    },
    "kernelspec": {
      "name": "python",
      "display_name": "Python (Pyodide)",
      "language": "python"
    },
    "colab": {
      "provenance": []
    }
  },
  "nbformat_minor": 0,
  "nbformat": 4,
  "cells": [
    {
      "cell_type": "code",
      "source": [
        "# 1. Numpy:"
      ],
      "metadata": {
        "id": "J3Acc--qkqag"
      },
      "execution_count": null,
      "outputs": []
    },
    {
      "cell_type": "code",
      "source": [
        "# ML ASSIGNMENT-3 // 700757487"
      ],
      "metadata": {
        "id": "gfMBmU_Akqad"
      },
      "execution_count": null,
      "outputs": []
    },
    {
      "cell_type": "code",
      "source": [
        "#a\n",
        "# Creating random vector of size 15 having only Integers in the range 1-20.\n",
        "import numpy as np\n",
        "v =  np.random.randint(1,20,(15,))\n",
        "\n",
        "# Reshaping the array to 3 by 5\n",
        "arr = v.reshape(3,5)\n",
        "print(arr.shape)\n",
        "print(arr)\n",
        "\n",
        "# Replacing the max in each row by 0\n",
        "row_max = arr.max(axis=1).reshape(-1,1)\n",
        "arr = np.where(arr == row_max, 0, arr)\n",
        "print('\\n',arr)\n"
      ],
      "metadata": {
        "trusted": true,
        "id": "sGcT6HxPkqah",
        "outputId": "b5c54b8f-eb9c-4e81-8513-d792b6107d48"
      },
      "execution_count": null,
      "outputs": [
        {
          "name": "stdout",
          "text": "(3, 5)\n[[ 9  5 14  5 17]\n [ 6 10  1 17  9]\n [ 3  7 13  7 10]]\n\n [[ 9  5 14  5  0]\n [ 6 10  1  0  9]\n [ 3  7  0  7 10]]\n",
          "output_type": "stream"
        }
      ]
    },
    {
      "cell_type": "code",
      "source": [
        "# Create a 2-dimensional array of size 4 x 3 (composed of 4-byte integer elements), also print the shape, type and data type of the array\n",
        "x = np.array([[1, 2, 3], [4, 5, 6], [7, 8, 9], [10, 5, 7]], np.int32)\n",
        "print('Shape:', x.shape)\n",
        "print('Type:', type(x))\n",
        "print('Data type:', x.dtype)"
      ],
      "metadata": {
        "trusted": true,
        "id": "Mo-muI_8kqaj",
        "outputId": "bb020434-ee08-4343-9a82-2e337be56d92"
      },
      "execution_count": null,
      "outputs": [
        {
          "name": "stdout",
          "text": "Shape: (4, 3)\nType: <class 'numpy.ndarray'>\nData type: int32\n",
          "output_type": "stream"
        }
      ]
    },
    {
      "cell_type": "code",
      "source": [
        "#B\n",
        "import numpy as np\n",
        "\n",
        "# create the square array\n",
        "A = np.array([[3, -2], [1, 0]])\n",
        "\n",
        "# compute eigenvalues and eigenvectors\n",
        "eigenvalues, eigenvectors = np.linalg.eig(A)\n",
        "\n",
        "# print the results\n",
        "print(\"Eigenvalues: \", eigenvalues)\n",
        "print(\"Right Eigenvectors: \\n\", eigenvectors)\n"
      ],
      "metadata": {
        "trusted": true,
        "id": "O7TJIl7Pkqaj",
        "outputId": "e1885557-9bbf-465b-fa34-9044a558bfb9"
      },
      "execution_count": null,
      "outputs": [
        {
          "name": "stdout",
          "text": "Eigenvalues:  [2. 1.]\nRight Eigenvectors: \n [[0.89442719 0.70710678]\n [0.4472136  0.70710678]]\n",
          "output_type": "stream"
        }
      ]
    },
    {
      "cell_type": "code",
      "source": [
        "#C\n",
        "import numpy as np\n",
        "\n",
        "# create the array\n",
        "A = np.array([[0, 1, 2], [3, 4, 5]])\n",
        "\n",
        "# compute the sum of diagonal elements\n",
        "diagonal_sum = np.trace(A)\n",
        "\n",
        "# print the result\n",
        "print(\"Sum of diagonal elements: \", diagonal_sum)\n"
      ],
      "metadata": {
        "trusted": true,
        "id": "7s1Eivi3kqak",
        "outputId": "c33a790c-9c07-4444-b1e1-dc436c4f25dd"
      },
      "execution_count": null,
      "outputs": [
        {
          "name": "stdout",
          "text": "Sum of diagonal elements:  4\n",
          "output_type": "stream"
        }
      ]
    },
    {
      "cell_type": "code",
      "source": [
        "#D\n",
        "import numpy as np\n",
        "\n",
        "# create the original array\n",
        "original_array = np.array([[1, 2], [3, 4], [5, 6]])\n",
        "\n",
        "# reshape the array to a new shape\n",
        "new_array = original_array.reshape((2, 3))\n",
        "\n",
        "# print both arrays to verify the data is not changed\n",
        "print(\"Original array:\\n\", original_array)\n",
        "print(\"New array:\\n\", new_array)\n"
      ],
      "metadata": {
        "trusted": true,
        "id": "xXWpsWkzkqal",
        "outputId": "cec5d442-6a8e-4772-c991-1542a64edc00"
      },
      "execution_count": null,
      "outputs": [
        {
          "name": "stdout",
          "text": "Original array:\n [[1 2]\n [3 4]\n [5 6]]\nNew array:\n [[1 2 3]\n [4 5 6]]\n",
          "output_type": "stream"
        }
      ]
    },
    {
      "cell_type": "code",
      "source": [
        "# Reshape 2x3:\n",
        "import numpy as np\n",
        "\n",
        "# create the original array\n",
        "original_array = np.array([[1, 2, 3], [4, 5, 6]])\n",
        "\n",
        "# reshape the array to a new shape\n",
        "new_array = original_array.reshape((2, 3))\n",
        "\n",
        "# print both arrays to verify the data is not changed\n",
        "print(\"Original array:\\n\", original_array)\n",
        "print(\"New array:\\n\", new_array)\n"
      ],
      "metadata": {
        "trusted": true,
        "id": "ZBTXnzcpkqal",
        "outputId": "6a45c789-91eb-4ace-baa8-47315e90e282"
      },
      "execution_count": null,
      "outputs": [
        {
          "name": "stdout",
          "text": "Original array:\n [[1 2 3]\n [4 5 6]]\nNew array:\n [[1 2 3]\n [4 5 6]]\n",
          "output_type": "stream"
        }
      ]
    },
    {
      "cell_type": "code",
      "source": [],
      "metadata": {
        "id": "rGvMNVP2kqan"
      },
      "execution_count": null,
      "outputs": []
    }
  ]
}